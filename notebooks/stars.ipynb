{
 "cells": [
  {
   "cell_type": "code",
   "execution_count": 1,
   "id": "1b2ce741-1b0a-435b-916b-62e53fc4e1ed",
   "metadata": {},
   "outputs": [],
   "source": [
    "import sys\n",
    "import os\n",
    "from photutils.detection import DAOStarFinder\n",
    "sys.path.append(os.path.abspath('../src'))\n",
    "from data_processing import get_coords\n",
    "from analysis import calculate_flux, magn_finder\n",
    "import numpy as np\n"
   ]
  },
  {
   "cell_type": "code",
   "execution_count": 1,
   "id": "2c6461e8-40e8-49e6-b8e9-bf2d03e3b6a6",
   "metadata": {},
   "outputs": [],
   "source": [
    "my_path = '/home/vladislav/Education/3 курс/astro_prac/photometry_of_variable_stars/data/'\n"
   ]
  },
  {
   "cell_type": "code",
   "execution_count": null,
   "id": "2eb9d680-abee-4d2b-ae58-a94ea1fa49cc",
   "metadata": {},
   "outputs": [],
   "source": [
    "get_coords(my_path, 'h', 5000, 4.0)\n",
    "get_coords(my_path, 'k', 3000, 3.0)\n",
    "get_coords(my_path, 'j', 2000, 4.0)"
   ]
  },
  {
   "cell_type": "code",
   "execution_count": null,
   "id": "6c0609df-6b1f-40a6-a80a-79b250f9a63f",
   "metadata": {},
   "outputs": [],
   "source": [
    "get_times('/home/vladislav/Education/3 курс/astro_prac/photometry_of_variable_stars/data/','h')\n",
    "\n",
    "dates = pd.DataFrame(data)\n",
    "df_h = df_h.join(dates[['jd', 'observation_time']])\n",
    "\n",
    "df_h = df_h.dropna()\n",
    "df_h['Опорная1'] = list(zip(df_h['xОпорная1'],df_h['yОпорная1']))\n",
    "df_h['Опорная2'] = list(zip(df_h['xОпорная2'],df_h['yОпорная2']))\n",
    "df_h['Переменная1'] = list(zip(df_h['xПеременная1'],df_h['yПеременная1']))\n",
    "df_h['Переменная2'] = list(zip(df_h['xПеременная2'],df_h['yПеременная2']))\n",
    "\n",
    "df_h = df_h.drop(columns =['xОпорная1', 'xОпорная2', 'yОпорная1','yОпорная2',\n",
    "                           'xПеременная1','xПеременная2', 'yПеременная2','yПеременная1'] )\n",
    "\n",
    "print(df_h)\n",
    "df_h.to_csv('h_filter_new.csv', index=False)"
   ]
  },
  {
   "cell_type": "code",
   "execution_count": null,
   "id": "794bf26a-befa-4a9c-8490-ce83bb29f9cd",
   "metadata": {},
   "outputs": [],
   "source": [
    "df_k = pd.read_csv('/home/vladislav/Education/3 курс/astro_prac/photometry_of_variable_stars/data/k_filter_new.csv')\n",
    "df_j = pd.read_csv('/home/vladislav/Education/3 курс/astro_prac/photometry_of_variable_stars/data/j_filter_new.csv'))\n",
    "df_h = pd.read_csv('/home/vladislav/Education/3 курс/astro_prac/photometry_of_variable_stars/data/h_filter_new.csv'))\n",
    "\n",
    "our_magnit = []\n",
    "our_times = []\n",
    "\n"
   ]
  }
 ],
 "metadata": {
  "kernelspec": {
   "display_name": "Python 3 (ipykernel)",
   "language": "python",
   "name": "python3"
  },
  "language_info": {
   "codemirror_mode": {
    "name": "ipython",
    "version": 3
   },
   "file_extension": ".py",
   "mimetype": "text/x-python",
   "name": "python",
   "nbconvert_exporter": "python",
   "pygments_lexer": "ipython3",
   "version": "3.12.5"
  }
 },
 "nbformat": 4,
 "nbformat_minor": 5
}
