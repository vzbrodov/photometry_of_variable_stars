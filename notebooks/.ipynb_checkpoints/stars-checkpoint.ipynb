{
 "cells": [
  {
   "cell_type": "code",
   "execution_count": 1,
   "id": "1b2ce741-1b0a-435b-916b-62e53fc4e1ed",
   "metadata": {},
   "outputs": [],
   "source": [
    "import sys\n",
    "import os\n",
    "from photutils.detection import DAOStarFinder\n",
    "sys.path.append(os.path.abspath('../src'))\n",
    "from data_processing import get_coords\n",
    "from analysis import calculate_flux, magn_finder\n",
    "import numpy as np\n"
   ]
  },
  {
   "cell_type": "code",
   "execution_count": 2,
   "id": "2c6461e8-40e8-49e6-b8e9-bf2d03e3b6a6",
   "metadata": {},
   "outputs": [
    {
     "name": "stdout",
     "output_type": "stream",
     "text": [
      "Processing /home/vladislav/Education/3 курс/astro_prac/photometry_of_variable_stars/data/h/h1.fit\n",
      "Processing /home/vladislav/Education/3 курс/astro_prac/photometry_of_variable_stars/data/h/h2.fit\n",
      "Processing /home/vladislav/Education/3 курс/astro_prac/photometry_of_variable_stars/data/h/h3.fit\n",
      "Processing /home/vladislav/Education/3 курс/astro_prac/photometry_of_variable_stars/data/h/h4.fit\n",
      "Processing /home/vladislav/Education/3 курс/astro_prac/photometry_of_variable_stars/data/h/h5.fit\n",
      "Processing /home/vladislav/Education/3 курс/astro_prac/photometry_of_variable_stars/data/h/h6.fit\n",
      "Processing /home/vladislav/Education/3 курс/astro_prac/photometry_of_variable_stars/data/h/h7.fit\n",
      "Processing /home/vladislav/Education/3 курс/astro_prac/photometry_of_variable_stars/data/h/h8.fit\n",
      "Processing /home/vladislav/Education/3 курс/astro_prac/photometry_of_variable_stars/data/h/h9.fit\n",
      "Processing /home/vladislav/Education/3 курс/astro_prac/photometry_of_variable_stars/data/h/h10.fit\n"
     ]
    },
    {
     "name": "stderr",
     "output_type": "stream",
     "text": [
      "WARNING: non-ASCII characters are present in the FITS file header and have been replaced by \"?\" characters [astropy.io.fits.util]\n",
      "WARNING: non-ASCII characters are present in the FITS file header and have been replaced by \"?\" characters [astropy.io.fits.util]\n",
      "WARNING: non-ASCII characters are present in the FITS file header and have been replaced by \"?\" characters [astropy.io.fits.util]\n",
      "WARNING: non-ASCII characters are present in the FITS file header and have been replaced by \"?\" characters [astropy.io.fits.util]\n",
      "WARNING: non-ASCII characters are present in the FITS file header and have been replaced by \"?\" characters [astropy.io.fits.util]\n",
      "WARNING: non-ASCII characters are present in the FITS file header and have been replaced by \"?\" characters [astropy.io.fits.util]\n",
      "WARNING: non-ASCII characters are present in the FITS file header and have been replaced by \"?\" characters [astropy.io.fits.util]\n",
      "WARNING: non-ASCII characters are present in the FITS file header and have been replaced by \"?\" characters [astropy.io.fits.util]\n",
      "WARNING: non-ASCII characters are present in the FITS file header and have been replaced by \"?\" characters [astropy.io.fits.util]\n",
      "WARNING: non-ASCII characters are present in the FITS file header and have been replaced by \"?\" characters [astropy.io.fits.util]\n",
      "WARNING: non-ASCII characters are present in the FITS file header and have been replaced by \"?\" characters [astropy.io.fits.util]\n",
      "WARNING: non-ASCII characters are present in the FITS file header and have been replaced by \"?\" characters [astropy.io.fits.util]\n",
      "WARNING: non-ASCII characters are present in the FITS file header and have been replaced by \"?\" characters [astropy.io.fits.util]\n",
      "WARNING: non-ASCII characters are present in the FITS file header and have been replaced by \"?\" characters [astropy.io.fits.util]\n"
     ]
    },
    {
     "name": "stdout",
     "output_type": "stream",
     "text": [
      "Processing /home/vladislav/Education/3 курс/astro_prac/photometry_of_variable_stars/data/h/h11.fit\n",
      "Processing /home/vladislav/Education/3 курс/astro_prac/photometry_of_variable_stars/data/h/h12.fit\n",
      "Processing /home/vladislav/Education/3 курс/astro_prac/photometry_of_variable_stars/data/h/h13.fit\n",
      "Processing /home/vladislav/Education/3 курс/astro_prac/photometry_of_variable_stars/data/h/h14.fit\n",
      "Processing /home/vladislav/Education/3 курс/astro_prac/photometry_of_variable_stars/data/h/h15.fit\n",
      "Processing /home/vladislav/Education/3 курс/astro_prac/photometry_of_variable_stars/data/h/h17.fit\n",
      "Processing /home/vladislav/Education/3 курс/astro_prac/photometry_of_variable_stars/data/h/h18.fit\n",
      "Processing /home/vladislav/Education/3 курс/astro_prac/photometry_of_variable_stars/data/h/h19.fit\n",
      "Processing /home/vladislav/Education/3 курс/astro_prac/photometry_of_variable_stars/data/h/h20.fit\n",
      "Processing /home/vladislav/Education/3 курс/astro_prac/photometry_of_variable_stars/data/h/h21.fit\n",
      "Processing /home/vladislav/Education/3 курс/astro_prac/photometry_of_variable_stars/data/h/h22.fit\n",
      "Processing /home/vladislav/Education/3 курс/astro_prac/photometry_of_variable_stars/data/h/h23.fit\n",
      "Processing /home/vladislav/Education/3 курс/astro_prac/photometry_of_variable_stars/data/h/h25.fit\n",
      "Processing /home/vladislav/Education/3 курс/astro_prac/photometry_of_variable_stars/data/h/h27.fit\n",
      "Processing /home/vladislav/Education/3 курс/astro_prac/photometry_of_variable_stars/data/h/h28.fit\n"
     ]
    },
    {
     "name": "stderr",
     "output_type": "stream",
     "text": [
      "WARNING: non-ASCII characters are present in the FITS file header and have been replaced by \"?\" characters [astropy.io.fits.util]\n",
      "WARNING: non-ASCII characters are present in the FITS file header and have been replaced by \"?\" characters [astropy.io.fits.util]\n",
      "WARNING: non-ASCII characters are present in the FITS file header and have been replaced by \"?\" characters [astropy.io.fits.util]\n",
      "WARNING: non-ASCII characters are present in the FITS file header and have been replaced by \"?\" characters [astropy.io.fits.util]\n",
      "WARNING: non-ASCII characters are present in the FITS file header and have been replaced by \"?\" characters [astropy.io.fits.util]\n",
      "WARNING: non-ASCII characters are present in the FITS file header and have been replaced by \"?\" characters [astropy.io.fits.util]\n",
      "WARNING: non-ASCII characters are present in the FITS file header and have been replaced by \"?\" characters [astropy.io.fits.util]\n",
      "WARNING: non-ASCII characters are present in the FITS file header and have been replaced by \"?\" characters [astropy.io.fits.util]\n",
      "WARNING: non-ASCII characters are present in the FITS file header and have been replaced by \"?\" characters [astropy.io.fits.util]\n",
      "WARNING: non-ASCII characters are present in the FITS file header and have been replaced by \"?\" characters [astropy.io.fits.util]\n",
      "WARNING: non-ASCII characters are present in the FITS file header and have been replaced by \"?\" characters [astropy.io.fits.util]\n",
      "WARNING: non-ASCII characters are present in the FITS file header and have been replaced by \"?\" characters [astropy.io.fits.util]\n",
      "WARNING: non-ASCII characters are present in the FITS file header and have been replaced by \"?\" characters [astropy.io.fits.util]\n",
      "WARNING: non-ASCII characters are present in the FITS file header and have been replaced by \"?\" characters [astropy.io.fits.util]\n"
     ]
    },
    {
     "name": "stdout",
     "output_type": "stream",
     "text": [
      "Processing /home/vladislav/Education/3 курс/astro_prac/photometry_of_variable_stars/data/h/h29.fit\n",
      "Processing /home/vladislav/Education/3 курс/astro_prac/photometry_of_variable_stars/data/h/h30.fit\n",
      "Processing /home/vladislav/Education/3 курс/astro_prac/photometry_of_variable_stars/data/h/h31.fit\n",
      "Processing /home/vladislav/Education/3 курс/astro_prac/photometry_of_variable_stars/data/h/h32.fit\n",
      "Processing /home/vladislav/Education/3 курс/astro_prac/photometry_of_variable_stars/data/h/h34.fit\n",
      "Processing /home/vladislav/Education/3 курс/astro_prac/photometry_of_variable_stars/data/h/h35.fit\n",
      "Processing /home/vladislav/Education/3 курс/astro_prac/photometry_of_variable_stars/data/h/h36.fit\n",
      "Processing /home/vladislav/Education/3 курс/astro_prac/photometry_of_variable_stars/data/h/h37.fit\n",
      "Processing /home/vladislav/Education/3 курс/astro_prac/photometry_of_variable_stars/data/h/h38.fit\n",
      "Processing /home/vladislav/Education/3 курс/astro_prac/photometry_of_variable_stars/data/h/h39.fit\n",
      "Processing /home/vladislav/Education/3 курс/astro_prac/photometry_of_variable_stars/data/h/h40.fit\n",
      "Processing /home/vladislav/Education/3 курс/astro_prac/photometry_of_variable_stars/data/h/h42.fit\n",
      "Processing /home/vladislav/Education/3 курс/astro_prac/photometry_of_variable_stars/data/h/h43.fit\n",
      "Processing /home/vladislav/Education/3 курс/astro_prac/photometry_of_variable_stars/data/h/h44.fit\n"
     ]
    },
    {
     "name": "stderr",
     "output_type": "stream",
     "text": [
      "WARNING: non-ASCII characters are present in the FITS file header and have been replaced by \"?\" characters [astropy.io.fits.util]\n",
      "WARNING: non-ASCII characters are present in the FITS file header and have been replaced by \"?\" characters [astropy.io.fits.util]\n",
      "WARNING: non-ASCII characters are present in the FITS file header and have been replaced by \"?\" characters [astropy.io.fits.util]\n",
      "WARNING: non-ASCII characters are present in the FITS file header and have been replaced by \"?\" characters [astropy.io.fits.util]\n",
      "WARNING: non-ASCII characters are present in the FITS file header and have been replaced by \"?\" characters [astropy.io.fits.util]\n",
      "WARNING: non-ASCII characters are present in the FITS file header and have been replaced by \"?\" characters [astropy.io.fits.util]\n",
      "WARNING: non-ASCII characters are present in the FITS file header and have been replaced by \"?\" characters [astropy.io.fits.util]\n",
      "WARNING: non-ASCII characters are present in the FITS file header and have been replaced by \"?\" characters [astropy.io.fits.util]\n",
      "WARNING: non-ASCII characters are present in the FITS file header and have been replaced by \"?\" characters [astropy.io.fits.util]\n",
      "WARNING: non-ASCII characters are present in the FITS file header and have been replaced by \"?\" characters [astropy.io.fits.util]\n",
      "WARNING: non-ASCII characters are present in the FITS file header and have been replaced by \"?\" characters [astropy.io.fits.util]\n",
      "WARNING: non-ASCII characters are present in the FITS file header and have been replaced by \"?\" characters [astropy.io.fits.util]\n",
      "WARNING: non-ASCII characters are present in the FITS file header and have been replaced by \"?\" characters [astropy.io.fits.util]\n"
     ]
    },
    {
     "name": "stdout",
     "output_type": "stream",
     "text": [
      "Processing /home/vladislav/Education/3 курс/astro_prac/photometry_of_variable_stars/data/h/h45.fit\n",
      "Processing /home/vladislav/Education/3 курс/astro_prac/photometry_of_variable_stars/data/h/h46.fit\n",
      "Processing /home/vladislav/Education/3 курс/astro_prac/photometry_of_variable_stars/data/h/h47.fit\n",
      "Processing /home/vladislav/Education/3 курс/astro_prac/photometry_of_variable_stars/data/h/h48.fit\n",
      "Processing /home/vladislav/Education/3 курс/astro_prac/photometry_of_variable_stars/data/h/h49.fit\n",
      "Processing /home/vladislav/Education/3 курс/astro_prac/photometry_of_variable_stars/data/h/h50.fit\n",
      "Processing /home/vladislav/Education/3 курс/astro_prac/photometry_of_variable_stars/data/h/h51.fit\n",
      "Processing /home/vladislav/Education/3 курс/astro_prac/photometry_of_variable_stars/data/h/h53.fit\n",
      "Processing /home/vladislav/Education/3 курс/astro_prac/photometry_of_variable_stars/data/h/h54.fit\n",
      "Processing /home/vladislav/Education/3 курс/astro_prac/photometry_of_variable_stars/data/h/h55.fit\n",
      "Processing /home/vladislav/Education/3 курс/astro_prac/photometry_of_variable_stars/data/h/h56.fit\n",
      "Processing /home/vladislav/Education/3 курс/astro_prac/photometry_of_variable_stars/data/h/h57.fit\n",
      "Processing /home/vladislav/Education/3 курс/astro_prac/photometry_of_variable_stars/data/h/h58.fit\n",
      "Processing /home/vladislav/Education/3 курс/astro_prac/photometry_of_variable_stars/data/h/h59.fit\n",
      "Processing /home/vladislav/Education/3 курс/astro_prac/photometry_of_variable_stars/data/h/h60.fit\n"
     ]
    },
    {
     "name": "stderr",
     "output_type": "stream",
     "text": [
      "WARNING: non-ASCII characters are present in the FITS file header and have been replaced by \"?\" characters [astropy.io.fits.util]\n",
      "WARNING: non-ASCII characters are present in the FITS file header and have been replaced by \"?\" characters [astropy.io.fits.util]\n",
      "WARNING: NoDetectionsWarning: No sources were found. [photutils.detection.daofinder]\n",
      "WARNING: non-ASCII characters are present in the FITS file header and have been replaced by \"?\" characters [astropy.io.fits.util]\n",
      "WARNING: non-ASCII characters are present in the FITS file header and have been replaced by \"?\" characters [astropy.io.fits.util]\n",
      "WARNING: non-ASCII characters are present in the FITS file header and have been replaced by \"?\" characters [astropy.io.fits.util]\n",
      "WARNING: non-ASCII characters are present in the FITS file header and have been replaced by \"?\" characters [astropy.io.fits.util]\n",
      "WARNING: non-ASCII characters are present in the FITS file header and have been replaced by \"?\" characters [astropy.io.fits.util]\n",
      "WARNING: non-ASCII characters are present in the FITS file header and have been replaced by \"?\" characters [astropy.io.fits.util]\n",
      "WARNING: non-ASCII characters are present in the FITS file header and have been replaced by \"?\" characters [astropy.io.fits.util]\n",
      "WARNING: non-ASCII characters are present in the FITS file header and have been replaced by \"?\" characters [astropy.io.fits.util]\n",
      "WARNING: non-ASCII characters are present in the FITS file header and have been replaced by \"?\" characters [astropy.io.fits.util]\n",
      "WARNING: non-ASCII characters are present in the FITS file header and have been replaced by \"?\" characters [astropy.io.fits.util]\n",
      "WARNING: non-ASCII characters are present in the FITS file header and have been replaced by \"?\" characters [astropy.io.fits.util]\n",
      "WARNING: non-ASCII characters are present in the FITS file header and have been replaced by \"?\" characters [astropy.io.fits.util]\n"
     ]
    },
    {
     "name": "stdout",
     "output_type": "stream",
     "text": [
      "Processing /home/vladislav/Education/3 курс/astro_prac/photometry_of_variable_stars/data/h/h61.fit\n",
      "Processing /home/vladislav/Education/3 курс/astro_prac/photometry_of_variable_stars/data/h/h62.fit\n",
      "Processing /home/vladislav/Education/3 курс/astro_prac/photometry_of_variable_stars/data/h/h64.fit\n",
      "Processing /home/vladislav/Education/3 курс/astro_prac/photometry_of_variable_stars/data/h/h65.fit\n",
      "Processing /home/vladislav/Education/3 курс/astro_prac/photometry_of_variable_stars/data/h/h66.fit\n",
      "Processing /home/vladislav/Education/3 курс/astro_prac/photometry_of_variable_stars/data/h/h67.fit\n",
      "Processing /home/vladislav/Education/3 курс/astro_prac/photometry_of_variable_stars/data/h/h68.fit\n",
      "Processing /home/vladislav/Education/3 курс/astro_prac/photometry_of_variable_stars/data/h/h69.fit\n",
      "Processing /home/vladislav/Education/3 курс/astro_prac/photometry_of_variable_stars/data/h/h70.fit\n",
      "Processing /home/vladislav/Education/3 курс/astro_prac/photometry_of_variable_stars/data/h/h71.fit\n",
      "Processing /home/vladislav/Education/3 курс/astro_prac/photometry_of_variable_stars/data/h/h72.fit\n",
      "Processing /home/vladislav/Education/3 курс/astro_prac/photometry_of_variable_stars/data/h/h73.fit\n",
      "Processing /home/vladislav/Education/3 курс/astro_prac/photometry_of_variable_stars/data/h/h74.fit\n",
      "Processing /home/vladislav/Education/3 курс/astro_prac/photometry_of_variable_stars/data/h/h75.fit\n"
     ]
    },
    {
     "name": "stderr",
     "output_type": "stream",
     "text": [
      "WARNING: non-ASCII characters are present in the FITS file header and have been replaced by \"?\" characters [astropy.io.fits.util]\n",
      "WARNING: non-ASCII characters are present in the FITS file header and have been replaced by \"?\" characters [astropy.io.fits.util]\n",
      "WARNING: non-ASCII characters are present in the FITS file header and have been replaced by \"?\" characters [astropy.io.fits.util]\n",
      "WARNING: non-ASCII characters are present in the FITS file header and have been replaced by \"?\" characters [astropy.io.fits.util]\n",
      "WARNING: non-ASCII characters are present in the FITS file header and have been replaced by \"?\" characters [astropy.io.fits.util]\n",
      "WARNING: non-ASCII characters are present in the FITS file header and have been replaced by \"?\" characters [astropy.io.fits.util]\n",
      "WARNING: non-ASCII characters are present in the FITS file header and have been replaced by \"?\" characters [astropy.io.fits.util]\n",
      "WARNING: non-ASCII characters are present in the FITS file header and have been replaced by \"?\" characters [astropy.io.fits.util]\n",
      "WARNING: non-ASCII characters are present in the FITS file header and have been replaced by \"?\" characters [astropy.io.fits.util]\n",
      "WARNING: non-ASCII characters are present in the FITS file header and have been replaced by \"?\" characters [astropy.io.fits.util]\n"
     ]
    },
    {
     "name": "stdout",
     "output_type": "stream",
     "text": [
      "Processing /home/vladislav/Education/3 курс/astro_prac/photometry_of_variable_stars/data/h/h76.fit\n",
      "Processing /home/vladislav/Education/3 курс/astro_prac/photometry_of_variable_stars/data/h/h77.fit\n",
      "Processing /home/vladislav/Education/3 курс/astro_prac/photometry_of_variable_stars/data/h/h78.fit\n",
      "Processing /home/vladislav/Education/3 курс/astro_prac/photometry_of_variable_stars/data/h/h79.fit\n",
      "Processing /home/vladislav/Education/3 курс/astro_prac/photometry_of_variable_stars/data/k/k1.fit\n",
      "Processing /home/vladislav/Education/3 курс/astro_prac/photometry_of_variable_stars/data/k/k2.fit\n",
      "Processing /home/vladislav/Education/3 курс/astro_prac/photometry_of_variable_stars/data/k/k3.fit\n",
      "Processing /home/vladislav/Education/3 курс/astro_prac/photometry_of_variable_stars/data/k/k4.fit\n",
      "Processing /home/vladislav/Education/3 курс/astro_prac/photometry_of_variable_stars/data/k/k5.fit\n",
      "Processing /home/vladislav/Education/3 курс/astro_prac/photometry_of_variable_stars/data/k/k6.fit\n",
      "Processing /home/vladislav/Education/3 курс/astro_prac/photometry_of_variable_stars/data/k/k7.fit\n",
      "Processing /home/vladislav/Education/3 курс/astro_prac/photometry_of_variable_stars/data/k/k8.fit\n"
     ]
    },
    {
     "name": "stderr",
     "output_type": "stream",
     "text": [
      "WARNING: non-ASCII characters are present in the FITS file header and have been replaced by \"?\" characters [astropy.io.fits.util]\n",
      "WARNING: non-ASCII characters are present in the FITS file header and have been replaced by \"?\" characters [astropy.io.fits.util]\n",
      "WARNING: non-ASCII characters are present in the FITS file header and have been replaced by \"?\" characters [astropy.io.fits.util]\n",
      "WARNING: non-ASCII characters are present in the FITS file header and have been replaced by \"?\" characters [astropy.io.fits.util]\n",
      "WARNING: non-ASCII characters are present in the FITS file header and have been replaced by \"?\" characters [astropy.io.fits.util]\n",
      "WARNING: non-ASCII characters are present in the FITS file header and have been replaced by \"?\" characters [astropy.io.fits.util]\n",
      "WARNING: non-ASCII characters are present in the FITS file header and have been replaced by \"?\" characters [astropy.io.fits.util]\n",
      "WARNING: non-ASCII characters are present in the FITS file header and have been replaced by \"?\" characters [astropy.io.fits.util]\n",
      "WARNING: non-ASCII characters are present in the FITS file header and have been replaced by \"?\" characters [astropy.io.fits.util]\n",
      "WARNING: non-ASCII characters are present in the FITS file header and have been replaced by \"?\" characters [astropy.io.fits.util]\n",
      "WARNING: non-ASCII characters are present in the FITS file header and have been replaced by \"?\" characters [astropy.io.fits.util]\n",
      "WARNING: non-ASCII characters are present in the FITS file header and have been replaced by \"?\" characters [astropy.io.fits.util]\n",
      "WARNING: non-ASCII characters are present in the FITS file header and have been replaced by \"?\" characters [astropy.io.fits.util]\n",
      "WARNING: non-ASCII characters are present in the FITS file header and have been replaced by \"?\" characters [astropy.io.fits.util]\n"
     ]
    },
    {
     "name": "stdout",
     "output_type": "stream",
     "text": [
      "Processing /home/vladislav/Education/3 курс/astro_prac/photometry_of_variable_stars/data/k/k9.fit\n",
      "Processing /home/vladislav/Education/3 курс/astro_prac/photometry_of_variable_stars/data/k/k10.fit\n",
      "Processing /home/vladislav/Education/3 курс/astro_prac/photometry_of_variable_stars/data/k/k11.fit\n",
      "Processing /home/vladislav/Education/3 курс/astro_prac/photometry_of_variable_stars/data/k/k12.fit\n",
      "Processing /home/vladislav/Education/3 курс/astro_prac/photometry_of_variable_stars/data/k/k13.fit\n",
      "Processing /home/vladislav/Education/3 курс/astro_prac/photometry_of_variable_stars/data/k/k14.fit\n",
      "Processing /home/vladislav/Education/3 курс/astro_prac/photometry_of_variable_stars/data/k/k15.fit\n",
      "Processing /home/vladislav/Education/3 курс/astro_prac/photometry_of_variable_stars/data/k/k16.fit\n",
      "Processing /home/vladislav/Education/3 курс/astro_prac/photometry_of_variable_stars/data/k/k17.fit\n",
      "Processing /home/vladislav/Education/3 курс/astro_prac/photometry_of_variable_stars/data/k/k18.fit\n",
      "Processing /home/vladislav/Education/3 курс/astro_prac/photometry_of_variable_stars/data/k/k19.fit\n",
      "Processing /home/vladislav/Education/3 курс/astro_prac/photometry_of_variable_stars/data/k/k20.fit\n",
      "Processing /home/vladislav/Education/3 курс/astro_prac/photometry_of_variable_stars/data/k/k21.fit\n",
      "Processing /home/vladislav/Education/3 курс/astro_prac/photometry_of_variable_stars/data/k/k22.fit\n",
      "Processing /home/vladislav/Education/3 курс/astro_prac/photometry_of_variable_stars/data/k/k23.fit\n"
     ]
    },
    {
     "name": "stderr",
     "output_type": "stream",
     "text": [
      "WARNING: non-ASCII characters are present in the FITS file header and have been replaced by \"?\" characters [astropy.io.fits.util]\n",
      "WARNING: non-ASCII characters are present in the FITS file header and have been replaced by \"?\" characters [astropy.io.fits.util]\n",
      "WARNING: non-ASCII characters are present in the FITS file header and have been replaced by \"?\" characters [astropy.io.fits.util]\n",
      "WARNING: non-ASCII characters are present in the FITS file header and have been replaced by \"?\" characters [astropy.io.fits.util]\n",
      "WARNING: non-ASCII characters are present in the FITS file header and have been replaced by \"?\" characters [astropy.io.fits.util]\n",
      "WARNING: non-ASCII characters are present in the FITS file header and have been replaced by \"?\" characters [astropy.io.fits.util]\n",
      "WARNING: non-ASCII characters are present in the FITS file header and have been replaced by \"?\" characters [astropy.io.fits.util]\n",
      "WARNING: non-ASCII characters are present in the FITS file header and have been replaced by \"?\" characters [astropy.io.fits.util]\n",
      "WARNING: non-ASCII characters are present in the FITS file header and have been replaced by \"?\" characters [astropy.io.fits.util]\n",
      "WARNING: non-ASCII characters are present in the FITS file header and have been replaced by \"?\" characters [astropy.io.fits.util]\n",
      "WARNING: non-ASCII characters are present in the FITS file header and have been replaced by \"?\" characters [astropy.io.fits.util]\n",
      "WARNING: non-ASCII characters are present in the FITS file header and have been replaced by \"?\" characters [astropy.io.fits.util]\n",
      "WARNING: non-ASCII characters are present in the FITS file header and have been replaced by \"?\" characters [astropy.io.fits.util]\n",
      "WARNING: non-ASCII characters are present in the FITS file header and have been replaced by \"?\" characters [astropy.io.fits.util]\n"
     ]
    },
    {
     "name": "stdout",
     "output_type": "stream",
     "text": [
      "Processing /home/vladislav/Education/3 курс/astro_prac/photometry_of_variable_stars/data/k/k24.fit\n",
      "Processing /home/vladislav/Education/3 курс/astro_prac/photometry_of_variable_stars/data/k/k25.fit\n",
      "Processing /home/vladislav/Education/3 курс/astro_prac/photometry_of_variable_stars/data/k/k26.fit\n",
      "Processing /home/vladislav/Education/3 курс/astro_prac/photometry_of_variable_stars/data/k/k27.fit\n",
      "Processing /home/vladislav/Education/3 курс/astro_prac/photometry_of_variable_stars/data/k/k28.fit\n",
      "Processing /home/vladislav/Education/3 курс/astro_prac/photometry_of_variable_stars/data/k/k29.fit\n",
      "Processing /home/vladislav/Education/3 курс/astro_prac/photometry_of_variable_stars/data/k/k30.fit\n",
      "Processing /home/vladislav/Education/3 курс/astro_prac/photometry_of_variable_stars/data/k/k31.fit\n",
      "Processing /home/vladislav/Education/3 курс/astro_prac/photometry_of_variable_stars/data/k/k32.fit\n",
      "Processing /home/vladislav/Education/3 курс/astro_prac/photometry_of_variable_stars/data/k/k33.fit\n",
      "Processing /home/vladislav/Education/3 курс/astro_prac/photometry_of_variable_stars/data/k/k34.fit\n",
      "Processing /home/vladislav/Education/3 курс/astro_prac/photometry_of_variable_stars/data/k/k35.fit\n",
      "Processing /home/vladislav/Education/3 курс/astro_prac/photometry_of_variable_stars/data/k/k36.fit\n",
      "Processing /home/vladislav/Education/3 курс/astro_prac/photometry_of_variable_stars/data/k/k37.fit\n"
     ]
    },
    {
     "name": "stderr",
     "output_type": "stream",
     "text": [
      "WARNING: non-ASCII characters are present in the FITS file header and have been replaced by \"?\" characters [astropy.io.fits.util]\n",
      "WARNING: non-ASCII characters are present in the FITS file header and have been replaced by \"?\" characters [astropy.io.fits.util]\n",
      "WARNING: non-ASCII characters are present in the FITS file header and have been replaced by \"?\" characters [astropy.io.fits.util]\n",
      "WARNING: non-ASCII characters are present in the FITS file header and have been replaced by \"?\" characters [astropy.io.fits.util]\n",
      "WARNING: non-ASCII characters are present in the FITS file header and have been replaced by \"?\" characters [astropy.io.fits.util]\n",
      "WARNING: non-ASCII characters are present in the FITS file header and have been replaced by \"?\" characters [astropy.io.fits.util]\n",
      "WARNING: non-ASCII characters are present in the FITS file header and have been replaced by \"?\" characters [astropy.io.fits.util]\n",
      "WARNING: non-ASCII characters are present in the FITS file header and have been replaced by \"?\" characters [astropy.io.fits.util]\n",
      "WARNING: non-ASCII characters are present in the FITS file header and have been replaced by \"?\" characters [astropy.io.fits.util]\n",
      "WARNING: non-ASCII characters are present in the FITS file header and have been replaced by \"?\" characters [astropy.io.fits.util]\n",
      "WARNING: non-ASCII characters are present in the FITS file header and have been replaced by \"?\" characters [astropy.io.fits.util]\n",
      "WARNING: non-ASCII characters are present in the FITS file header and have been replaced by \"?\" characters [astropy.io.fits.util]\n",
      "WARNING: non-ASCII characters are present in the FITS file header and have been replaced by \"?\" characters [astropy.io.fits.util]\n"
     ]
    },
    {
     "name": "stdout",
     "output_type": "stream",
     "text": [
      "Processing /home/vladislav/Education/3 курс/astro_prac/photometry_of_variable_stars/data/k/k38.fit\n",
      "Processing /home/vladislav/Education/3 курс/astro_prac/photometry_of_variable_stars/data/k/k39.fit\n",
      "Processing /home/vladislav/Education/3 курс/astro_prac/photometry_of_variable_stars/data/k/k40.fit\n",
      "Processing /home/vladislav/Education/3 курс/astro_prac/photometry_of_variable_stars/data/k/k41.fit\n",
      "Processing /home/vladislav/Education/3 курс/astro_prac/photometry_of_variable_stars/data/k/k42.fit\n",
      "Processing /home/vladislav/Education/3 курс/astro_prac/photometry_of_variable_stars/data/k/k43.fit\n",
      "Processing /home/vladislav/Education/3 курс/astro_prac/photometry_of_variable_stars/data/k/k44.fit\n",
      "Processing /home/vladislav/Education/3 курс/astro_prac/photometry_of_variable_stars/data/k/k45.fit\n",
      "Processing /home/vladislav/Education/3 курс/astro_prac/photometry_of_variable_stars/data/k/k46.fit\n",
      "Processing /home/vladislav/Education/3 курс/astro_prac/photometry_of_variable_stars/data/k/k47.fit\n",
      "Processing /home/vladislav/Education/3 курс/astro_prac/photometry_of_variable_stars/data/k/k48.fit\n",
      "Processing /home/vladislav/Education/3 курс/astro_prac/photometry_of_variable_stars/data/k/k49.fit\n",
      "Processing /home/vladislav/Education/3 курс/astro_prac/photometry_of_variable_stars/data/k/k50.fit\n",
      "Processing /home/vladislav/Education/3 курс/astro_prac/photometry_of_variable_stars/data/k/k51.fit\n"
     ]
    },
    {
     "name": "stderr",
     "output_type": "stream",
     "text": [
      "WARNING: non-ASCII characters are present in the FITS file header and have been replaced by \"?\" characters [astropy.io.fits.util]\n",
      "WARNING: non-ASCII characters are present in the FITS file header and have been replaced by \"?\" characters [astropy.io.fits.util]\n",
      "WARNING: non-ASCII characters are present in the FITS file header and have been replaced by \"?\" characters [astropy.io.fits.util]\n",
      "WARNING: NoDetectionsWarning: No sources were found. [photutils.detection.daofinder]\n",
      "WARNING: non-ASCII characters are present in the FITS file header and have been replaced by \"?\" characters [astropy.io.fits.util]\n",
      "WARNING: non-ASCII characters are present in the FITS file header and have been replaced by \"?\" characters [astropy.io.fits.util]\n",
      "WARNING: non-ASCII characters are present in the FITS file header and have been replaced by \"?\" characters [astropy.io.fits.util]\n",
      "WARNING: non-ASCII characters are present in the FITS file header and have been replaced by \"?\" characters [astropy.io.fits.util]\n",
      "WARNING: non-ASCII characters are present in the FITS file header and have been replaced by \"?\" characters [astropy.io.fits.util]\n",
      "WARNING: NoDetectionsWarning: No sources were found. [photutils.detection.daofinder]\n"
     ]
    },
    {
     "name": "stdout",
     "output_type": "stream",
     "text": [
      "Processing /home/vladislav/Education/3 курс/astro_prac/photometry_of_variable_stars/data/k/k52.fit\n",
      "Processing /home/vladislav/Education/3 курс/astro_prac/photometry_of_variable_stars/data/k/k53.fit\n",
      "Processing /home/vladislav/Education/3 курс/astro_prac/photometry_of_variable_stars/data/k/k54.fit\n",
      "Processing /home/vladislav/Education/3 курс/astro_prac/photometry_of_variable_stars/data/k/k55.fit\n",
      "Processing /home/vladislav/Education/3 курс/astro_prac/photometry_of_variable_stars/data/k/k56.fit\n",
      "Processing /home/vladislav/Education/3 курс/astro_prac/photometry_of_variable_stars/data/k/k57.fit\n",
      "Processing /home/vladislav/Education/3 курс/astro_prac/photometry_of_variable_stars/data/k/k58.fit\n",
      "Processing /home/vladislav/Education/3 курс/astro_prac/photometry_of_variable_stars/data/k/k59.fit\n",
      "Processing /home/vladislav/Education/3 курс/astro_prac/photometry_of_variable_stars/data/k/k60.fit\n",
      "Processing /home/vladislav/Education/3 курс/astro_prac/photometry_of_variable_stars/data/j/j1.fit\n",
      "Processing /home/vladislav/Education/3 курс/astro_prac/photometry_of_variable_stars/data/j/j2.fit\n"
     ]
    },
    {
     "name": "stderr",
     "output_type": "stream",
     "text": [
      "WARNING: non-ASCII characters are present in the FITS file header and have been replaced by \"?\" characters [astropy.io.fits.util]\n",
      "WARNING: non-ASCII characters are present in the FITS file header and have been replaced by \"?\" characters [astropy.io.fits.util]\n",
      "WARNING: non-ASCII characters are present in the FITS file header and have been replaced by \"?\" characters [astropy.io.fits.util]\n",
      "WARNING: non-ASCII characters are present in the FITS file header and have been replaced by \"?\" characters [astropy.io.fits.util]\n",
      "WARNING: non-ASCII characters are present in the FITS file header and have been replaced by \"?\" characters [astropy.io.fits.util]\n",
      "WARNING: non-ASCII characters are present in the FITS file header and have been replaced by \"?\" characters [astropy.io.fits.util]\n",
      "WARNING: non-ASCII characters are present in the FITS file header and have been replaced by \"?\" characters [astropy.io.fits.util]\n",
      "WARNING: non-ASCII characters are present in the FITS file header and have been replaced by \"?\" characters [astropy.io.fits.util]\n",
      "WARNING: non-ASCII characters are present in the FITS file header and have been replaced by \"?\" characters [astropy.io.fits.util]\n",
      "WARNING: non-ASCII characters are present in the FITS file header and have been replaced by \"?\" characters [astropy.io.fits.util]\n",
      "WARNING: non-ASCII characters are present in the FITS file header and have been replaced by \"?\" characters [astropy.io.fits.util]\n",
      "WARNING: non-ASCII characters are present in the FITS file header and have been replaced by \"?\" characters [astropy.io.fits.util]\n",
      "WARNING: non-ASCII characters are present in the FITS file header and have been replaced by \"?\" characters [astropy.io.fits.util]\n"
     ]
    },
    {
     "name": "stdout",
     "output_type": "stream",
     "text": [
      "Processing /home/vladislav/Education/3 курс/astro_prac/photometry_of_variable_stars/data/j/j3.fit\n",
      "Processing /home/vladislav/Education/3 курс/astro_prac/photometry_of_variable_stars/data/j/j4.fit\n",
      "Processing /home/vladislav/Education/3 курс/astro_prac/photometry_of_variable_stars/data/j/j5.fit\n",
      "Processing /home/vladislav/Education/3 курс/astro_prac/photometry_of_variable_stars/data/j/j6.fit\n",
      "Processing /home/vladislav/Education/3 курс/astro_prac/photometry_of_variable_stars/data/j/j7.fit\n",
      "Processing /home/vladislav/Education/3 курс/astro_prac/photometry_of_variable_stars/data/j/j8.fit\n",
      "Processing /home/vladislav/Education/3 курс/astro_prac/photometry_of_variable_stars/data/j/j9.fit\n",
      "Processing /home/vladislav/Education/3 курс/astro_prac/photometry_of_variable_stars/data/j/j10.fit\n",
      "Processing /home/vladislav/Education/3 курс/astro_prac/photometry_of_variable_stars/data/j/j11.fit\n",
      "Processing /home/vladislav/Education/3 курс/astro_prac/photometry_of_variable_stars/data/j/j12.fit\n",
      "Processing /home/vladislav/Education/3 курс/astro_prac/photometry_of_variable_stars/data/j/j13.fit\n",
      "Processing /home/vladislav/Education/3 курс/astro_prac/photometry_of_variable_stars/data/j/j14.fit\n",
      "Processing /home/vladislav/Education/3 курс/astro_prac/photometry_of_variable_stars/data/j/j15.fit\n",
      "Processing /home/vladislav/Education/3 курс/astro_prac/photometry_of_variable_stars/data/j/j16.fit\n",
      "Processing /home/vladislav/Education/3 курс/astro_prac/photometry_of_variable_stars/data/j/j17.fit\n",
      "Processing /home/vladislav/Education/3 курс/astro_prac/photometry_of_variable_stars/data/j/j18.fit\n"
     ]
    },
    {
     "name": "stderr",
     "output_type": "stream",
     "text": [
      "WARNING: non-ASCII characters are present in the FITS file header and have been replaced by \"?\" characters [astropy.io.fits.util]\n",
      "WARNING: non-ASCII characters are present in the FITS file header and have been replaced by \"?\" characters [astropy.io.fits.util]\n",
      "WARNING: non-ASCII characters are present in the FITS file header and have been replaced by \"?\" characters [astropy.io.fits.util]\n",
      "WARNING: non-ASCII characters are present in the FITS file header and have been replaced by \"?\" characters [astropy.io.fits.util]\n",
      "WARNING: non-ASCII characters are present in the FITS file header and have been replaced by \"?\" characters [astropy.io.fits.util]\n",
      "WARNING: non-ASCII characters are present in the FITS file header and have been replaced by \"?\" characters [astropy.io.fits.util]\n",
      "WARNING: non-ASCII characters are present in the FITS file header and have been replaced by \"?\" characters [astropy.io.fits.util]\n",
      "WARNING: non-ASCII characters are present in the FITS file header and have been replaced by \"?\" characters [astropy.io.fits.util]\n",
      "WARNING: non-ASCII characters are present in the FITS file header and have been replaced by \"?\" characters [astropy.io.fits.util]\n",
      "WARNING: non-ASCII characters are present in the FITS file header and have been replaced by \"?\" characters [astropy.io.fits.util]\n",
      "WARNING: non-ASCII characters are present in the FITS file header and have been replaced by \"?\" characters [astropy.io.fits.util]\n",
      "WARNING: non-ASCII characters are present in the FITS file header and have been replaced by \"?\" characters [astropy.io.fits.util]\n",
      "WARNING: non-ASCII characters are present in the FITS file header and have been replaced by \"?\" characters [astropy.io.fits.util]\n",
      "WARNING: non-ASCII characters are present in the FITS file header and have been replaced by \"?\" characters [astropy.io.fits.util]\n"
     ]
    },
    {
     "name": "stdout",
     "output_type": "stream",
     "text": [
      "Processing /home/vladislav/Education/3 курс/astro_prac/photometry_of_variable_stars/data/j/j19.fit\n",
      "Processing /home/vladislav/Education/3 курс/astro_prac/photometry_of_variable_stars/data/j/j20.fit\n",
      "Processing /home/vladislav/Education/3 курс/astro_prac/photometry_of_variable_stars/data/j/j21.fit\n",
      "Processing /home/vladislav/Education/3 курс/astro_prac/photometry_of_variable_stars/data/j/j22.fit\n",
      "Processing /home/vladislav/Education/3 курс/astro_prac/photometry_of_variable_stars/data/j/j23.fit\n",
      "Processing /home/vladislav/Education/3 курс/astro_prac/photometry_of_variable_stars/data/j/j24.fit\n",
      "Processing /home/vladislav/Education/3 курс/astro_prac/photometry_of_variable_stars/data/j/j25.fit\n",
      "Processing /home/vladislav/Education/3 курс/astro_prac/photometry_of_variable_stars/data/j/j26.fit\n",
      "Processing /home/vladislav/Education/3 курс/astro_prac/photometry_of_variable_stars/data/j/j27.fit\n",
      "Processing /home/vladislav/Education/3 курс/astro_prac/photometry_of_variable_stars/data/j/j28.fit\n",
      "Processing /home/vladislav/Education/3 курс/astro_prac/photometry_of_variable_stars/data/j/j29.fit\n",
      "Processing /home/vladislav/Education/3 курс/astro_prac/photometry_of_variable_stars/data/j/j30.fit\n",
      "Processing /home/vladislav/Education/3 курс/astro_prac/photometry_of_variable_stars/data/j/j31.fit\n",
      "Processing /home/vladislav/Education/3 курс/astro_prac/photometry_of_variable_stars/data/j/j32.fit\n",
      "Processing /home/vladislav/Education/3 курс/astro_prac/photometry_of_variable_stars/data/j/j33.fit\n",
      "Processing /home/vladislav/Education/3 курс/astro_prac/photometry_of_variable_stars/data/j/j34.fit\n",
      "Processing /home/vladislav/Education/3 курс/astro_prac/photometry_of_variable_stars/data/j/j35.fit\n",
      "Processing /home/vladislav/Education/3 курс/astro_prac/photometry_of_variable_stars/data/j/j36.fit\n",
      "Processing /home/vladislav/Education/3 курс/astro_prac/photometry_of_variable_stars/data/j/j37.fit\n",
      "Processing /home/vladislav/Education/3 курс/astro_prac/photometry_of_variable_stars/data/j/j38.fit\n",
      "Processing /home/vladislav/Education/3 курс/astro_prac/photometry_of_variable_stars/data/j/j39.fit\n",
      "Processing /home/vladislav/Education/3 курс/astro_prac/photometry_of_variable_stars/data/j/j40.fit\n",
      "Processing /home/vladislav/Education/3 курс/astro_prac/photometry_of_variable_stars/data/j/j41.fit\n",
      "Processing /home/vladislav/Education/3 курс/astro_prac/photometry_of_variable_stars/data/j/j42.fit\n",
      "Processing /home/vladislav/Education/3 курс/astro_prac/photometry_of_variable_stars/data/j/j43.fit\n",
      "Processing /home/vladislav/Education/3 курс/astro_prac/photometry_of_variable_stars/data/j/j44.fit\n",
      "Processing /home/vladislav/Education/3 курс/astro_prac/photometry_of_variable_stars/data/j/j45.fit\n",
      "Processing /home/vladislav/Education/3 курс/astro_prac/photometry_of_variable_stars/data/j/j46.fit\n",
      "Processing /home/vladislav/Education/3 курс/astro_prac/photometry_of_variable_stars/data/j/j47.fit\n",
      "Processing /home/vladislav/Education/3 курс/astro_prac/photometry_of_variable_stars/data/j/j48.fit\n",
      "Processing /home/vladislav/Education/3 курс/astro_prac/photometry_of_variable_stars/data/j/j49.fit\n",
      "Processing /home/vladislav/Education/3 курс/astro_prac/photometry_of_variable_stars/data/j/j50.fit\n"
     ]
    },
    {
     "name": "stderr",
     "output_type": "stream",
     "text": [
      "WARNING: non-ASCII characters are present in the FITS file header and have been replaced by \"?\" characters [astropy.io.fits.util]\n",
      "WARNING: non-ASCII characters are present in the FITS file header and have been replaced by \"?\" characters [astropy.io.fits.util]\n",
      "WARNING: non-ASCII characters are present in the FITS file header and have been replaced by \"?\" characters [astropy.io.fits.util]\n",
      "WARNING: non-ASCII characters are present in the FITS file header and have been replaced by \"?\" characters [astropy.io.fits.util]\n",
      "WARNING: non-ASCII characters are present in the FITS file header and have been replaced by \"?\" characters [astropy.io.fits.util]\n",
      "WARNING: non-ASCII characters are present in the FITS file header and have been replaced by \"?\" characters [astropy.io.fits.util]\n",
      "WARNING: non-ASCII characters are present in the FITS file header and have been replaced by \"?\" characters [astropy.io.fits.util]\n",
      "WARNING: non-ASCII characters are present in the FITS file header and have been replaced by \"?\" characters [astropy.io.fits.util]\n",
      "WARNING: non-ASCII characters are present in the FITS file header and have been replaced by \"?\" characters [astropy.io.fits.util]\n",
      "WARNING: non-ASCII characters are present in the FITS file header and have been replaced by \"?\" characters [astropy.io.fits.util]\n",
      "WARNING: non-ASCII characters are present in the FITS file header and have been replaced by \"?\" characters [astropy.io.fits.util]\n",
      "WARNING: non-ASCII characters are present in the FITS file header and have been replaced by \"?\" characters [astropy.io.fits.util]\n",
      "WARNING: non-ASCII characters are present in the FITS file header and have been replaced by \"?\" characters [astropy.io.fits.util]\n",
      "WARNING: non-ASCII characters are present in the FITS file header and have been replaced by \"?\" characters [astropy.io.fits.util]\n",
      "WARNING: non-ASCII characters are present in the FITS file header and have been replaced by \"?\" characters [astropy.io.fits.util]\n"
     ]
    },
    {
     "name": "stdout",
     "output_type": "stream",
     "text": [
      "Processing /home/vladislav/Education/3 курс/astro_prac/photometry_of_variable_stars/data/j/j51.fit\n",
      "Processing /home/vladislav/Education/3 курс/astro_prac/photometry_of_variable_stars/data/j/j52.fit\n",
      "Processing /home/vladislav/Education/3 курс/astro_prac/photometry_of_variable_stars/data/j/j53.fit\n",
      "Processing /home/vladislav/Education/3 курс/astro_prac/photometry_of_variable_stars/data/j/j54.fit\n",
      "Processing /home/vladislav/Education/3 курс/astro_prac/photometry_of_variable_stars/data/j/j55.fit\n",
      "Processing /home/vladislav/Education/3 курс/astro_prac/photometry_of_variable_stars/data/j/j56.fit\n",
      "Processing /home/vladislav/Education/3 курс/astro_prac/photometry_of_variable_stars/data/j/j57.fit\n",
      "Processing /home/vladislav/Education/3 курс/astro_prac/photometry_of_variable_stars/data/j/j58.fit\n",
      "Processing /home/vladislav/Education/3 курс/astro_prac/photometry_of_variable_stars/data/j/j59.fit\n",
      "Processing /home/vladislav/Education/3 курс/astro_prac/photometry_of_variable_stars/data/j/j60.fit\n",
      "Processing /home/vladislav/Education/3 курс/astro_prac/photometry_of_variable_stars/data/j/j61.fit\n",
      "Processing /home/vladislav/Education/3 курс/astro_prac/photometry_of_variable_stars/data/j/j62.fit\n",
      "Processing /home/vladislav/Education/3 курс/astro_prac/photometry_of_variable_stars/data/j/j63.fit\n",
      "Processing /home/vladislav/Education/3 курс/astro_prac/photometry_of_variable_stars/data/j/j64.fit\n",
      "Processing /home/vladislav/Education/3 курс/astro_prac/photometry_of_variable_stars/data/j/j65.fit\n"
     ]
    },
    {
     "name": "stderr",
     "output_type": "stream",
     "text": [
      "WARNING: non-ASCII characters are present in the FITS file header and have been replaced by \"?\" characters [astropy.io.fits.util]\n",
      "WARNING: non-ASCII characters are present in the FITS file header and have been replaced by \"?\" characters [astropy.io.fits.util]\n",
      "WARNING: non-ASCII characters are present in the FITS file header and have been replaced by \"?\" characters [astropy.io.fits.util]\n",
      "WARNING: non-ASCII characters are present in the FITS file header and have been replaced by \"?\" characters [astropy.io.fits.util]\n",
      "WARNING: non-ASCII characters are present in the FITS file header and have been replaced by \"?\" characters [astropy.io.fits.util]\n",
      "WARNING: non-ASCII characters are present in the FITS file header and have been replaced by \"?\" characters [astropy.io.fits.util]\n",
      "WARNING: non-ASCII characters are present in the FITS file header and have been replaced by \"?\" characters [astropy.io.fits.util]\n",
      "WARNING: non-ASCII characters are present in the FITS file header and have been replaced by \"?\" characters [astropy.io.fits.util]\n",
      "WARNING: non-ASCII characters are present in the FITS file header and have been replaced by \"?\" characters [astropy.io.fits.util]\n",
      "WARNING: non-ASCII characters are present in the FITS file header and have been replaced by \"?\" characters [astropy.io.fits.util]\n",
      "WARNING: non-ASCII characters are present in the FITS file header and have been replaced by \"?\" characters [astropy.io.fits.util]\n",
      "WARNING: non-ASCII characters are present in the FITS file header and have been replaced by \"?\" characters [astropy.io.fits.util]\n",
      "WARNING: non-ASCII characters are present in the FITS file header and have been replaced by \"?\" characters [astropy.io.fits.util]\n",
      "WARNING: non-ASCII characters are present in the FITS file header and have been replaced by \"?\" characters [astropy.io.fits.util]\n"
     ]
    },
    {
     "name": "stdout",
     "output_type": "stream",
     "text": [
      "Processing /home/vladislav/Education/3 курс/astro_prac/photometry_of_variable_stars/data/j/j66.fit\n",
      "Processing /home/vladislav/Education/3 курс/astro_prac/photometry_of_variable_stars/data/j/j67.fit\n",
      "Processing /home/vladislav/Education/3 курс/astro_prac/photometry_of_variable_stars/data/j/j68.fit\n",
      "Processing /home/vladislav/Education/3 курс/astro_prac/photometry_of_variable_stars/data/j/j69.fit\n",
      "Processing /home/vladislav/Education/3 курс/astro_prac/photometry_of_variable_stars/data/j/j70.fit\n",
      "Processing /home/vladislav/Education/3 курс/astro_prac/photometry_of_variable_stars/data/j/j71.fit\n",
      "Processing /home/vladislav/Education/3 курс/astro_prac/photometry_of_variable_stars/data/j/j72.fit\n",
      "Processing /home/vladislav/Education/3 курс/astro_prac/photometry_of_variable_stars/data/j/j73.fit\n",
      "Processing /home/vladislav/Education/3 курс/astro_prac/photometry_of_variable_stars/data/j/j74.fit\n",
      "Processing /home/vladislav/Education/3 курс/astro_prac/photometry_of_variable_stars/data/j/j75.fit\n",
      "Processing /home/vladislav/Education/3 курс/astro_prac/photometry_of_variable_stars/data/j/j76.fit\n",
      "Processing /home/vladislav/Education/3 курс/astro_prac/photometry_of_variable_stars/data/j/j77.fit\n",
      "Processing /home/vladislav/Education/3 курс/astro_prac/photometry_of_variable_stars/data/j/j78.fit\n",
      "Processing /home/vladislav/Education/3 курс/astro_prac/photometry_of_variable_stars/data/j/j79.fit\n"
     ]
    },
    {
     "name": "stderr",
     "output_type": "stream",
     "text": [
      "WARNING: non-ASCII characters are present in the FITS file header and have been replaced by \"?\" characters [astropy.io.fits.util]\n",
      "WARNING: non-ASCII characters are present in the FITS file header and have been replaced by \"?\" characters [astropy.io.fits.util]\n",
      "WARNING: non-ASCII characters are present in the FITS file header and have been replaced by \"?\" characters [astropy.io.fits.util]\n",
      "WARNING: non-ASCII characters are present in the FITS file header and have been replaced by \"?\" characters [astropy.io.fits.util]\n",
      "WARNING: non-ASCII characters are present in the FITS file header and have been replaced by \"?\" characters [astropy.io.fits.util]\n",
      "WARNING: NoDetectionsWarning: No sources were found. [photutils.detection.daofinder]\n",
      "WARNING: non-ASCII characters are present in the FITS file header and have been replaced by \"?\" characters [astropy.io.fits.util]\n",
      "WARNING: non-ASCII characters are present in the FITS file header and have been replaced by \"?\" characters [astropy.io.fits.util]\n",
      "WARNING: non-ASCII characters are present in the FITS file header and have been replaced by \"?\" characters [astropy.io.fits.util]\n",
      "WARNING: non-ASCII characters are present in the FITS file header and have been replaced by \"?\" characters [astropy.io.fits.util]\n",
      "WARNING: non-ASCII characters are present in the FITS file header and have been replaced by \"?\" characters [astropy.io.fits.util]\n",
      "WARNING: non-ASCII characters are present in the FITS file header and have been replaced by \"?\" characters [astropy.io.fits.util]\n",
      "WARNING: non-ASCII characters are present in the FITS file header and have been replaced by \"?\" characters [astropy.io.fits.util]\n",
      "WARNING: non-ASCII characters are present in the FITS file header and have been replaced by \"?\" characters [astropy.io.fits.util]\n",
      "WARNING: non-ASCII characters are present in the FITS file header and have been replaced by \"?\" characters [astropy.io.fits.util]\n"
     ]
    }
   ],
   "source": [
    "my_path = '/home/vladislav/Education/3 курс/astro_prac/photometry_of_variable_stars/data/'\n",
    "get_coords(my_path, 'h', 10000)\n",
    "get_coords(my_path, 'k', 4000)\n",
    "get_coords(my_path, 'j')"
   ]
  },
  {
   "cell_type": "code",
   "execution_count": null,
   "id": "2eb9d680-abee-4d2b-ae58-a94ea1fa49cc",
   "metadata": {},
   "outputs": [],
   "source": []
  },
  {
   "cell_type": "code",
   "execution_count": null,
   "id": "6c0609df-6b1f-40a6-a80a-79b250f9a63f",
   "metadata": {},
   "outputs": [],
   "source": []
  }
 ],
 "metadata": {
  "kernelspec": {
   "display_name": "Python 3 (ipykernel)",
   "language": "python",
   "name": "python3"
  },
  "language_info": {
   "codemirror_mode": {
    "name": "ipython",
    "version": 3
   },
   "file_extension": ".py",
   "mimetype": "text/x-python",
   "name": "python",
   "nbconvert_exporter": "python",
   "pygments_lexer": "ipython3",
   "version": "3.12.5"
  }
 },
 "nbformat": 4,
 "nbformat_minor": 5
}
